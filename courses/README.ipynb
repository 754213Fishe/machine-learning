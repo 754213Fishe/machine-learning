{
 "cells": [
  {
   "cell_type": "code",
   "execution_count": 1,
   "metadata": {
    "tags": [
     "remove_cell"
    ]
   },
   "outputs": [
    {
     "name": "stdout",
     "output_type": "stream",
     "text": [
      "\n",
      "\u001b[1m[\u001b[0m\u001b[34;49mnotice\u001b[0m\u001b[1;39;49m]\u001b[0m\u001b[39;49m A new release of pip is available: \u001b[0m\u001b[31;49m23.1.2\u001b[0m\u001b[39;49m -> \u001b[0m\u001b[32;49m23.2.1\u001b[0m\n",
      "\u001b[1m[\u001b[0m\u001b[34;49mnotice\u001b[0m\u001b[1;39;49m]\u001b[0m\u001b[39;49m To update, run: \u001b[0m\u001b[32;49mpip install --upgrade pip\u001b[0m\n"
     ]
    }
   ],
   "source": [
    "# Install the necessary dependencies\n",
    "\n",
    "import os\n",
    "import sys\n",
    "!{sys.executable} -m pip install --quiet pandas langcodes langcodes[data] tabulate\n",
    "\n",
    "module_path = os.path.abspath(os.path.join('../'))\n",
    "if module_path not in sys.path:\n",
    "    sys.path.append(module_path)\n",
    "\n",
    "import pandas as pd\n",
    "import numpy as np\n",
    "from IPython.core.display import Markdown\n",
    "from langcodes import Language\n",
    "from lib.utils.awesome_list import *\n"
   ]
  },
  {
   "cell_type": "markdown",
   "metadata": {},
   "source": [
    "# Awesome Free AI Learning Resource\n",
    "\n"
   ]
  },
  {
   "cell_type": "code",
   "execution_count": 18,
   "metadata": {},
   "outputs": [
    {
     "data": {
      "text/markdown": [
       "|    | Title                                                                                                               | By                                                                                                                                  | Price   | Topic           | Type          | Cert   | Language   | Level       | Label                                                            | Licence   |\n",
       "|---:|:--------------------------------------------------------------------------------------------------------------------|:------------------------------------------------------------------------------------------------------------------------------------|:--------|:----------------|:--------------|:-------|:-----------|:------------|:-----------------------------------------------------------------|:----------|\n",
       "|  1 | <a href=\"https://www.freecodecamp.org/learn/data-visualization/\">Data Visualization</a>                             | <a href=\"https://freecodecamp.org\">freeCodeCamp</a>                                                                                 | 🟩 Free | 💿 Data science | 🟩 Self-paced | ✅     | 🇺🇸 English | 🟩 Beginner | 💿 Data science 📈 Data visualization 🫙 Javascript 👨‍🏫 Projects |           |\n",
       "|  2 | <a href=\"https://www.freecodecamp.org/learn/relational-database/\">Relational Database</a>                           | <a href=\"https://freecodecamp.org\">freeCodeCamp</a>                                                                                 | 🟩 Free | 💿 Data science | 🟩 Self-paced | ✅     | 🇺🇸 English | 🟩 Beginner | 💿 Data science 📊 SQL 👨‍🏫 Projects                             |           |\n",
       "|  3 | <a href=\"https://www.freecodecamp.org/learn/scientific-computing-with-python/\">Scientific Computing with Python</a> | <a href=\"https://www.linkedin.com/in/charlesseverance/\">Charles Severance</a> @ <a href=\"https://freecodecamp.org\">freeCodeCamp</a> | 🟩 Free | 💿 Data science | 🟩 Self-paced | ✅     | 🇺🇸 English | 🟩 Beginner | 💿 Data science 🐍 Python 👨‍🏫 Projects 🎥 Video                 |           |\n",
       "|  4 | <a href=\"https://www.freecodecamp.org/learn/data-analysis-with-python/\">Data Analysis with Python</a>               | <a href=\"https://www.linkedin.com/in/santiagobasulto\">Santiago Basulto</a> @ <a href=\"https://freecodecamp.org\">freeCodeCamp</a>    | 🟩 Free | 💿 Data science | 🟩 Self-paced | ✅     | 🇺🇸 English | 🟩 Beginner | 💿 Data science 🐍 Python 👨‍🏫 Projects 🎥 Video                 |           |\n",
       "|  5 | <a href=\"https://www.freecodecamp.org/learn/machine-learning-with-python/\">Machine Learning with Python</a>         | <a href=\"https://www.linkedin.com/in/tim-ruscica/\">Tim Ruscica</a> @ <a href=\"https://freecodecamp.org\">freeCodeCamp</a>            | 🟩 Free | 🤖 AI           | 🟩 Self-paced | ✅     | 🇺🇸 English | 🟩 Beginner | 🧠 Machine learning 🐍 Python 👨‍🏫 Projects 🎥 Video             |           |\n",
       "|  6 | <a href=\"https://www.freecodecamp.org/learn/college-algebra-with-python/\">College Algebra with Python</a>           | <a href=\"https://freecodecamp.org\">freeCodeCamp</a>                                                                                 | 🟩 Free | 💿 Data science | 🟩 Self-paced | ✅     | 🇺🇸 English | 🟩 Beginner | 💿 Data science 🐍 Python 🧮 Math 👨‍🏫 Projects 🎥 Video         |           |"
      ],
      "text/plain": [
       "<IPython.core.display.Markdown object>"
      ]
     },
     "metadata": {},
     "output_type": "display_data"
    }
   ],
   "source": [
    "# Render the output\n",
    "\n",
    "df = pd.read_csv('./data.csv')\n",
    "\n",
    "apply_a_tag_to_column(df, 'source', 'title')\n",
    "apply_a_tag_to_column(df, 'platformSrc', 'platform')\n",
    "apply_a_tag_to_column(df, 'authorSrc', 'author')\n",
    "\n",
    "price_icon_palette = {\n",
    "    'Free': '🟩',\n",
    "    'Paid': '🟥',\n",
    "}\n",
    "apply_label_style_to_column(df, 'price', price_icon_palette)\n",
    "\n",
    "label_icon_palette = {\n",
    "    'Data science': '💿',\n",
    "    'AI': '🤖',\n",
    "    'Python': '🐍',\n",
    "    'Projects': '👨‍🏫',\n",
    "    'SQL': '📊',\n",
    "    'Javascript': '🫙',\n",
    "    'Video': '🎥',\n",
    "    'Data visualization': '📈',\n",
    "    'Machine learning': '🧠',\n",
    "    'Math': '🧮',\n",
    "}\n",
    "apply_label_style_to_column(df, 'label', label_icon_palette)\n",
    "\n",
    "language_icon_palette = {\n",
    "    'English': '🇺🇸',\n",
    "    'Chinese': '🇨🇳',\n",
    "}\n",
    "apply_label_style_to_column(df, 'language', language_icon_palette, lambda x: Language.get(x).describe(language=x)['language'])\n",
    "\n",
    "topic_icon_palette = {\n",
    "    'Data science': '💿',\n",
    "    'AI': '🤖',\n",
    "    'Python': '🐍',\n",
    "}\n",
    "apply_label_style_to_column(df, 'topic', topic_icon_palette)\n",
    "\n",
    "type_icon_palette = {\n",
    "    'Self-paced': '🟩',\n",
    "    'Instructor-led': '🟥',\n",
    "}\n",
    "apply_label_style_to_column(df, 'type', type_icon_palette)\n",
    "\n",
    "level_icon_palette = {\n",
    "    'Beginner': '🟩',\n",
    "    'Intermediate': '🟧',\n",
    "    'Advanced': '🟥',\n",
    "}\n",
    "apply_label_style_to_column(df, 'level', level_icon_palette)\n",
    "\n",
    "apply_label_style_to_boolean_column(df, 'cert')\n",
    "\n",
    "# df['by'] = df['author'] + ' @ ' + df['platform']\n",
    "\n",
    "\n",
    "df['by'] = df.apply(lambda x: x['platform'] if x['author'] is np.nan else f\"{x['author']} @ {x['platform']}\" if x['platform'] is not np.nan else x['author'], axis=1)\n",
    "df.insert(2, 'by', df.pop('by'))\n",
    "# df['title'] = df.apply(lambda x: f\"{x['title']} by {x['author']}\" if x['author'] is not np.nan else x['title'], axis=1)\n",
    "\n",
    "\n",
    "excluded_columns = ['platformSrc', 'id', 'source',\n",
    "                    'createdAt', 'authorSrc', 'objectives',\n",
    "                    'description', 'duration', 'license',\n",
    "                    'platform', 'author', 'updatedAt']\n",
    "df = df.loc[:, ~df.columns.isin(excluded_columns)]\n",
    "df = df.replace(np.nan, '', regex=True)\n",
    "\n",
    "df.columns = df.columns.str.title()\n",
    "df.index += 1\n",
    "\n",
    "display(Markdown(df.to_markdown()))"
   ]
  }
 ],
 "metadata": {
  "kernelspec": {
   "display_name": "base",
   "language": "python",
   "name": "python3"
  },
  "language_info": {
   "codemirror_mode": {
    "name": "ipython",
    "version": 3
   },
   "file_extension": ".py",
   "mimetype": "text/x-python",
   "name": "python",
   "nbconvert_exporter": "python",
   "pygments_lexer": "ipython3",
   "version": "3.9.5"
  },
  "orig_nbformat": 4
 },
 "nbformat": 4,
 "nbformat_minor": 2
}
