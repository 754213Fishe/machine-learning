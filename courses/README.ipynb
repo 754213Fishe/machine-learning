{
 "cells": [
  {
   "cell_type": "code",
   "execution_count": 3,
   "metadata": {
    "tags": [
     "remove_cell"
    ]
   },
   "outputs": [
    {
     "name": "stdout",
     "output_type": "stream",
     "text": [
      "\n",
      "\u001b[1m[\u001b[0m\u001b[34;49mnotice\u001b[0m\u001b[1;39;49m]\u001b[0m\u001b[39;49m A new release of pip is available: \u001b[0m\u001b[31;49m23.1.2\u001b[0m\u001b[39;49m -> \u001b[0m\u001b[32;49m23.2.1\u001b[0m\n",
      "\u001b[1m[\u001b[0m\u001b[34;49mnotice\u001b[0m\u001b[1;39;49m]\u001b[0m\u001b[39;49m To update, run: \u001b[0m\u001b[32;49mpip install --upgrade pip\u001b[0m\n"
     ]
    }
   ],
   "source": [
    "# Install the necessary dependencies\n",
    "\n",
    "import os\n",
    "import sys\n",
    "!{sys.executable} -m pip install --quiet pandas langcodes langcodes[data] tabulate\n",
    "\n",
    "module_path = os.path.abspath(os.path.join('../'))\n",
    "if module_path not in sys.path:\n",
    "    sys.path.append(module_path)\n",
    "\n",
    "import pandas as pd\n",
    "import numpy as np\n",
    "from IPython.core.display import Markdown\n",
    "from lib.utils.awesome_list import *\n"
   ]
  },
  {
   "cell_type": "markdown",
   "metadata": {},
   "source": [
    "# Awesome Free AI Learning Resource\n",
    "\n"
   ]
  },
  {
   "cell_type": "code",
   "execution_count": 4,
   "metadata": {},
   "outputs": [
    {
     "data": {
      "text/markdown": [
       "|    | Title                                                                                                               | Author                                                                        | Price   | Topic           | Platform                                            | Type          | Cert   | Language   | Level       | Label                                                            |\n",
       "|---:|:--------------------------------------------------------------------------------------------------------------------|:------------------------------------------------------------------------------|:--------|:----------------|:----------------------------------------------------|:--------------|:-------|:-----------|:------------|:-----------------------------------------------------------------|\n",
       "|  1 | <a href=\"https://www.freecodecamp.org/learn/data-visualization/\">Data Visualization</a>                             |                                                                               | 🟩 Free | 💿 Data science | <a href=\"https://freecodecamp.org\">freeCodeCamp</a> | 🟩 Self-paced | ✅     | 🇺🇸 English | 🟩 Beginner | 💿 Data science 📈 Data visualization 🫙 Javascript 👨‍🏫 Projects |\n",
       "|  2 | <a href=\"https://www.freecodecamp.org/learn/relational-database/\">Relational Database</a>                           |                                                                               | 🟩 Free | 💿 Data science | <a href=\"https://freecodecamp.org\">freeCodeCamp</a> | 🟩 Self-paced | ✅     | 🇺🇸 English | 🟩 Beginner | 💿 Data science 📊 SQL 👨‍🏫 Projects                             |\n",
       "|  3 | <a href=\"https://www.freecodecamp.org/learn/scientific-computing-with-python/\">Scientific Computing with Python</a> | <a href=\"https://www.linkedin.com/in/charlesseverance/\">Charles Severance</a> | 🟩 Free | 💿 Data science | <a href=\"https://freecodecamp.org\">freeCodeCamp</a> | 🟩 Self-paced | ✅     | 🇺🇸 English | 🟩 Beginner | 💿 Data science 🐍 Python 👨‍🏫 Projects 🎥 Video                 |\n",
       "|  4 | <a href=\"https://www.freecodecamp.org/learn/data-analysis-with-python/\">Data Analysis with Python</a>               | <a href=\"https://www.linkedin.com/in/santiagobasulto\">Santiago Basulto</a>    | 🟩 Free | 💿 Data science | <a href=\"https://freecodecamp.org\">freeCodeCamp</a> | 🟩 Self-paced | ✅     | 🇺🇸 English | 🟩 Beginner | 💿 Data science 🐍 Python 👨‍🏫 Projects 🎥 Video                 |\n",
       "|  5 | <a href=\"https://www.freecodecamp.org/learn/machine-learning-with-python/\">Machine Learning with Python</a>         | <a href=\"https://www.linkedin.com/in/tim-ruscica/\">Tim Ruscica</a>            | 🟩 Free | 🤖 AI           | <a href=\"https://freecodecamp.org\">freeCodeCamp</a> | 🟩 Self-paced | ✅     | 🇺🇸 English | 🟩 Beginner | 🧠 Machine learning 🐍 Python 👨‍🏫 Projects 🎥 Video             |\n",
       "|  6 | <a href=\"https://www.freecodecamp.org/learn/college-algebra-with-python/\">College Algebra with Python</a>           |                                                                               | 🟩 Free | 💿 Data science | <a href=\"https://freecodecamp.org\">freeCodeCamp</a> | 🟩 Self-paced | ✅     | 🇺🇸 English | 🟩 Beginner | 💿 Data science 🐍 Python 🧮 Math 👨‍🏫 Projects 🎥 Video         |"
      ],
      "text/plain": [
       "<IPython.core.display.Markdown object>"
      ]
     },
     "metadata": {},
     "output_type": "display_data"
    }
   ],
   "source": [
    "# Render the output\n",
    "\n",
    "df = pd.read_csv('./data.csv')\n",
    "\n",
    "excluded_columns = ['platformSrc', 'id', 'source',\n",
    "                    'createdAt', 'authorSrc', 'objectives',\n",
    "                    'description', 'duration', 'license', 'updatedAt']\n",
    "df = apply_common_style(df, excluded_columns)\n",
    "\n",
    "display(Markdown(df.to_markdown()))"
   ]
  }
 ],
 "metadata": {
  "kernelspec": {
   "display_name": "base",
   "language": "python",
   "name": "python3"
  },
  "language_info": {
   "codemirror_mode": {
    "name": "ipython",
    "version": 3
   },
   "file_extension": ".py",
   "mimetype": "text/x-python",
   "name": "python",
   "nbconvert_exporter": "python",
   "pygments_lexer": "ipython3",
   "version": "3.9.5"
  },
  "orig_nbformat": 4
 },
 "nbformat": 4,
 "nbformat_minor": 2
}
