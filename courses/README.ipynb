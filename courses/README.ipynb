{
 "cells": [
  {
   "cell_type": "code",
   "execution_count": 1,
   "metadata": {
    "tags": [
     "remove_cell"
    ]
   },
   "outputs": [
    {
     "name": "stdout",
     "output_type": "stream",
     "text": [
      "\n",
      "\u001b[1m[\u001b[0m\u001b[34;49mnotice\u001b[0m\u001b[1;39;49m]\u001b[0m\u001b[39;49m A new release of pip is available: \u001b[0m\u001b[31;49m23.1.2\u001b[0m\u001b[39;49m -> \u001b[0m\u001b[32;49m23.2.1\u001b[0m\n",
      "\u001b[1m[\u001b[0m\u001b[34;49mnotice\u001b[0m\u001b[1;39;49m]\u001b[0m\u001b[39;49m To update, run: \u001b[0m\u001b[32;49mpip install --upgrade pip\u001b[0m\n"
     ]
    }
   ],
   "source": [
    "# Install the necessary dependencies\n",
    "\n",
    "import os\n",
    "import sys\n",
    "!{sys.executable} -m pip install --quiet pandas langcodes langcodes[data] tabulate\n",
    "\n",
    "module_path = os.path.abspath(os.path.join('../'))\n",
    "if module_path not in sys.path:\n",
    "    sys.path.append(module_path)\n",
    "\n",
    "import pandas as pd\n",
    "import numpy as np\n",
    "from IPython.core.display import Markdown\n",
    "from lib.utils.awesome_list import *\n"
   ]
  },
  {
   "cell_type": "markdown",
   "metadata": {},
   "source": [
    "# Awesome Free AI Learning Resource\n",
    "\n"
   ]
  },
  {
   "cell_type": "code",
   "execution_count": 2,
   "metadata": {},
   "outputs": [
    {
     "data": {
      "text/markdown": [
       "|    | Title                                                                                                                                                                                       | Author                                                                                                                                                                                                                                                                                                                                                      | Price          | Topic               | Platform                                                      | Type          | Cert   | Language   | Level       | Label                                                                                             | Published at   |\n",
       "|---:|:--------------------------------------------------------------------------------------------------------------------------------------------------------------------------------------------|:------------------------------------------------------------------------------------------------------------------------------------------------------------------------------------------------------------------------------------------------------------------------------------------------------------------------------------------------------------|:---------------|:--------------------|:--------------------------------------------------------------|:--------------|:-------|:-----------|:------------|:--------------------------------------------------------------------------------------------------|:---------------|\n",
       "|  1 | <a href=\"https://www.freecodecamp.org/learn/data-visualization/\">Data Visualization</a>                                                                                                     |                                                                                                                                                                                                                                                                                                                                                             | 🟩 Free        | 💿 Data science     | <a href=\"https://freecodecamp.org\">freeCodeCamp</a>           | 🟩 Self-paced | ✅     | 🇺🇸 English | 🟩 Beginner | 💿 Data science 📈 Data visualization 🫙 Javascript 👨‍🏫 Projects                                  |                |\n",
       "|  2 | <a href=\"https://www.freecodecamp.org/learn/relational-database/\">Relational Database</a>                                                                                                   |                                                                                                                                                                                                                                                                                                                                                             | 🟩 Free        | 💿 Data science     | <a href=\"https://freecodecamp.org\">freeCodeCamp</a>           | 🟩 Self-paced | ✅     | 🇺🇸 English | 🟩 Beginner | 💿 Data science 📊 SQL 👨‍🏫 Projects                                                              |                |\n",
       "|  3 | <a href=\"https://www.freecodecamp.org/learn/scientific-computing-with-python/\">Scientific Computing with Python</a>                                                                         | <a href=\"https://www.linkedin.com/in/charlesseverance/\">Charles Severance</a>                                                                                                                                                                                                                                                                               | 🟩 Free        | 💿 Data science     | <a href=\"https://freecodecamp.org\">freeCodeCamp</a>           | 🟩 Self-paced | ✅     | 🇺🇸 English | 🟩 Beginner | 💿 Data science 🐍 Python 👨‍🏫 Projects 🎥 Video                                                  |                |\n",
       "|  4 | <a href=\"https://www.freecodecamp.org/learn/data-analysis-with-python/\">Data Analysis with Python</a>                                                                                       | <a href=\"https://www.linkedin.com/in/santiagobasulto\">Santiago Basulto</a>                                                                                                                                                                                                                                                                                  | 🟩 Free        | 💿 Data science     | <a href=\"https://freecodecamp.org\">freeCodeCamp</a>           | 🟩 Self-paced | ✅     | 🇺🇸 English | 🟩 Beginner | 💿 Data science 🐍 Python 👨‍🏫 Projects 🎥 Video                                                  |                |\n",
       "|  5 | <a href=\"https://www.freecodecamp.org/learn/machine-learning-with-python/\">Machine Learning with Python</a>                                                                                 | <a href=\"https://www.linkedin.com/in/tim-ruscica/\">Tim Ruscica</a>                                                                                                                                                                                                                                                                                          | 🟩 Free        | 🤖 AI               | <a href=\"https://freecodecamp.org\">freeCodeCamp</a>           | 🟩 Self-paced | ✅     | 🇺🇸 English | 🟩 Beginner | 🧠 Machine learning 🐍 Python 👨‍🏫 Projects 🎥 Video                                              |                |\n",
       "|  6 | <a href=\"https://cilvr.cs.nyu.edu/doku.php?id=courses:start\">Big Data, Large Scale Machine Learning</a>                                                                                     | <a href=\"http://hunch.net/~jl/\">John Langford</a>, <a href=\"https://en.wikipedia.org/wiki/Yann_LeCun\">Yann LeCun</a>                                                                                                                                                                                                                                        | 🟩 Free        | 🧠 Machine learning | <a href=\"https://www.nyu.edu/\">New York University</a>        | 🟩 Self-paced | ❌     | 🇺🇸 English | 🟥 Advanced | 🧠 Machine learning 🎥 Video 👨‍🏫 Projects ⚡️ Big data                                            |                |\n",
       "|  7 | <a href=\"https://ocw.mit.edu/courses/6-034-artificial-intelligence-fall-2010/pages/syllabus/\">Artificial Intelligence</a>                                                                   | <a href=\"https://en.wikipedia.org/wiki/Patrick_Winston\">Patrick Henry Winston</a>                                                                                                                                                                                                                                                                           | 🟩 Free        | 🤖 AI               | <a href=\"https://www.mit.edu/\">MIT</a>                        | 🟩 Self-paced | ❌     | 🇺🇸 English | 🟩 Beginner | 🤖 AI 🎥 Video 👨‍🏫 Projects                                                                      |                |\n",
       "|  8 | <a href=\"http://web.stanford.edu/class/cs224n/\">Natural Language Processing with Deep Learning</a>                                                                                          | <a href=\"https://en.wikipedia.org/wiki/Christopher_D._Manning\">Chris Manning</a>                                                                                                                                                                                                                                                                            | 🟩 Free        | 👽 Deep learning    | <a href=\"https://www.stanford.edu/\">Stanford</a>              | 🟩 Self-paced | ❌     | 🇺🇸 English | 🟥 Advanced | 👽 Deep learning 🎥 Video 👨‍🏫 Projects 🗣️ NLP                                                     |                |\n",
       "|  9 | <a href=\"https://www.cs.ox.ac.uk/people/nando.defreitas/machinelearning/\">Machine Learning: 2014-2015</a>                                                                                   | <a href=\"https://en.wikipedia.org/wiki/Nando_de_Freitas\">Nando de Freitas</a>                                                                                                                                                                                                                                                                               | 🟩 Free        | 🧠 Machine learning | <a href=\"https://www.ox.ac.uk/\">Oxford</a>                    | 🟩 Self-paced | ❌     | 🇺🇸 English | 🟩 Beginner | 🧠 Machine learning 🎥 Video 👨‍🏫 Projects                                                        |                |\n",
       "| 10 | <a href=\"https://courses.nvidia.com/courses/course-v1:DLI+S-FX-01+V1/\">Getting Started with Deep Learning</a>                                                                               |                                                                                                                                                                                                                                                                                                                                                             | 🟥 Paid of 90$ | 👽 Deep learning    | <a href=\"www.nvidia.com/\">NVIDIA</a>                          | 🟩 Self-paced | ✅     | 🇺🇸 English | 🟥 Advanced | 🧠 Machine learning 👨‍🏫 Projects 💿 Data science 👓 Computer vision ⚡️ Big data 👽 Deep learning |                |\n",
       "| 11 | <a href=\"https://courses.nvidia.com/courses/course-v1:DLI+S-IV-02+V2/\">Building Video AI Applications at the Edge on Jetson Nano</a>                                                        |                                                                                                                                                                                                                                                                                                                                                             | 🟩 Free        | 🦿 Robotics         | <a href=\"www.nvidia.com/\">NVIDIA</a>                          | 🟩 Self-paced | ✅     | 🇺🇸 English | 🟥 Advanced | 🧠 Machine learning 👨‍🏫 Projects 👓 Computer vision 👽 Deep learning                             |                |\n",
       "| 12 | <a href=\"https://courses.nvidia.com/courses/course-v1:DLI+S-RX-02+V2/\">Getting Started with AI on Jetson Nano</a>                                                                           |                                                                                                                                                                                                                                                                                                                                                             | 🟩 Free        | 🦿 Robotics         | <a href=\"www.nvidia.com/\">NVIDIA</a>                          | 🟩 Self-paced | ✅     | 🇺🇸 English | 🟥 Advanced | 💻 Hardware 🦿 Robotics 👓 Computer vision                                                        |                |\n",
       "| 13 | <a href=\"https://www.ipam.ucla.edu/programs/summer-schools/graduate-summer-school-deep-learning-feature-learning/?tab=overview\">Graduate Summer School: Deep Learning, Feature Learning</a> | <a href=\"https://en.wikipedia.org/wiki/Yoshua_Bengio\">Yoshua Bengio</a>, <a href=\"https://en.wikipedia.org/wiki/Geoffrey_Hinton\">Geoffrey Hinton</a>, <a href=\"https://en.wikipedia.org/wiki/Yann_LeCun\">Yann LeCun</a>, <a href=\"https://www.andrewng.org/\">Andrew Ng</a>, <a href=\"https://en.wikipedia.org/wiki/Stanley_Osher\">Stanley Osher</a>, others | 🟩 Free        | 👽 Deep learning    | <a href=\"https://www.ucla.edu/\">UCLA</a>                      | 🟩 Self-paced | ❌     | 🇺🇸 English | 🟥 Advanced | 👽 Deep learning 🎥 Video 🧠 Machine learning                                                     | 2012-07-27     |\n",
       "| 14 | <a href=\"https://uwaterloo.ca/data-analytics/teaching/deep-learning-2017\">Deep Learning 2017</a>                                                                                            | <a href=\"https://www.linkedin.com/in/ali-ghodsi-525b0a61/\">Ali Ghodsi</a>                                                                                                                                                                                                                                                                                   | 🟩 Free        | 👽 Deep learning    | <a href=\"https://uwaterloo.ca\">University of Waterloo</a>     | 🟩 Self-paced | ❌     | 🇺🇸 English | 🟥 Advanced | 👽 Deep learning 🎥 Video 🧠 Machine learning 👨‍🏫 Projects                                       | 2017-09-07     |\n",
       "| 15 | <a href=\"https://uwaterloo.ca/data-analytics/deep-learning\">Deep Learning</a>                                                                                                               | <a href=\"https://www.linkedin.com/in/ali-ghodsi-525b0a61/\">Ali Ghodsi</a>                                                                                                                                                                                                                                                                                   | 🟩 Free        | 👽 Deep learning    | <a href=\"https://uwaterloo.ca\">University of Waterloo</a>     | 🟩 Self-paced | ❌     | 🇺🇸 English | 🟥 Advanced | 👽 Deep learning 🎥 Video 🧠 Machine learning 👨‍🏫 Projects                                       | 2015-09-01     |\n",
       "| 16 | <a href=\"https://www.stat.cmu.edu/~ryantibs/statml/\">Statistical Machine Learning: Spring 2017</a>                                                                                          | <a href=\"http://www.stat.cmu.edu/~ryantibs/\">Ryan Tibshirani</a>, <a href=\"https://en.wikipedia.org/wiki/Larry_A._Wasserman\">Larry Wasserman</a>                                                                                                                                                                                                            | 🟩 Free        | 🧠 Machine learning | <a href=\"https://www.cmu.edu/\">Carnegie Mellon University</a> | 🟩 Self-paced | ❌     | 🇺🇸 English | 🟩 Beginner | 🧠 Machine learning 🎥 Video 👨‍🏫 Projects                                                        | 2017-01-17     |"
      ],
      "text/plain": [
       "<IPython.core.display.Markdown object>"
      ]
     },
     "metadata": {},
     "output_type": "display_data"
    }
   ],
   "source": [
    "# Render the output\n",
    "\n",
    "df = pd.read_csv('./data.csv')\n",
    "\n",
    "excluded_columns = ['platformSrc', 'id', 'source', 'cost',\n",
    "                    'createdAt', 'authorSrc', 'objectives',\n",
    "                    'description', 'syllabus', 'duration', 'license', 'updatedAt']\n",
    "df = apply_common_style(df, excluded_columns)\n",
    "\n",
    "display(Markdown(df.to_markdown()))"
   ]
  }
 ],
 "metadata": {
  "kernelspec": {
   "display_name": "base",
   "language": "python",
   "name": "python3"
  },
  "language_info": {
   "codemirror_mode": {
    "name": "ipython",
    "version": 3
   },
   "file_extension": ".py",
   "mimetype": "text/x-python",
   "name": "python",
   "nbconvert_exporter": "python",
   "pygments_lexer": "ipython3",
   "version": "3.9.5"
  },
  "orig_nbformat": 4
 },
 "nbformat": 4,
 "nbformat_minor": 2
}
