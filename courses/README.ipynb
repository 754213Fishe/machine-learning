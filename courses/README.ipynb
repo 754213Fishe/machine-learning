{
 "cells": [
  {
   "cell_type": "code",
   "execution_count": 18,
   "metadata": {
    "tags": [
     "remove_cell"
    ]
   },
   "outputs": [
    {
     "name": "stdout",
     "output_type": "stream",
     "text": [
      "\n",
      "\u001b[1m[\u001b[0m\u001b[34;49mnotice\u001b[0m\u001b[1;39;49m]\u001b[0m\u001b[39;49m A new release of pip is available: \u001b[0m\u001b[31;49m23.1.2\u001b[0m\u001b[39;49m -> \u001b[0m\u001b[32;49m23.2.1\u001b[0m\n",
      "\u001b[1m[\u001b[0m\u001b[34;49mnotice\u001b[0m\u001b[1;39;49m]\u001b[0m\u001b[39;49m To update, run: \u001b[0m\u001b[32;49mpip install --upgrade pip\u001b[0m\n"
     ]
    }
   ],
   "source": [
    "# Install the necessary dependencies\n",
    "\n",
    "import os\n",
    "import sys\n",
    "!{sys.executable} -m pip install --quiet pandas langcodes langcodes[data] tabulate\n",
    "\n",
    "module_path = os.path.abspath(os.path.join('../'))\n",
    "if module_path not in sys.path:\n",
    "    sys.path.append(module_path)\n",
    "\n",
    "import pandas as pd\n",
    "import numpy as np\n",
    "from IPython.core.display import Markdown\n",
    "from langcodes import Language\n",
    "from lib.utils.awesome_list import *\n"
   ]
  },
  {
   "cell_type": "markdown",
   "metadata": {},
   "source": [
    "# Awesome Free AI Learning Resource\n",
    "\n"
   ]
  },
  {
   "cell_type": "code",
   "execution_count": 19,
   "metadata": {},
   "outputs": [
    {
     "data": {
      "text/markdown": [
       "|    | Title                                                                                                               | Description                                           | Author                                                                        | Price   | Topic          | Duration   | Label                                                        | Platform                                            | Type         | Certificate                                                                                                                                                                                                                                                                                                                                                                                                                                                                                                                                                                                                                                                                                             | Language   | Level      | Licence   | Updatedat                 |\n",
       "|---:|:--------------------------------------------------------------------------------------------------------------------|:------------------------------------------------------|:------------------------------------------------------------------------------|:--------|:---------------|:-----------|:-------------------------------------------------------------|:----------------------------------------------------|:-------------|:--------------------------------------------------------------------------------------------------------------------------------------------------------------------------------------------------------------------------------------------------------------------------------------------------------------------------------------------------------------------------------------------------------------------------------------------------------------------------------------------------------------------------------------------------------------------------------------------------------------------------------------------------------------------------------------------------------|:-----------|:-----------|:----------|:--------------------------|\n",
       "|  1 | <a href=\"https://www.freecodecamp.org/learn/data-visualization/\">Data Visualization</a>                             | Data is all around us, but it doesn't mean much wi... |                                                                               | 🟩Free  | 💿Data science |            | 💿Data science 📈Data visualization 🫙Javascript 👨‍🏫Projects | <a href=\"https://freecodecamp.org\">freeCodeCamp</a> | 🟩Self-paced | <svg t=\"1690848852144\" class=\"icon\" viewBox=\"0 0 1024 1024\" version=\"1.1\" xmlns=\"http://www.w3.org/2000/svg\" p-id=\"7842\" width=\"32\" height=\"32\"><path d=\"M511.75543 62.584384c-247.815085 0-448.708512 200.659089-448.708512 448.186625 0 247.52549 200.893426 448.185602 448.708512 448.185602 247.814062 0 448.707488-200.659089 448.707488-448.185602C960.462918 263.243473 759.569492 62.584384 511.75543 62.584384L511.75543 62.584384zM406.268934 739.938386l-35.823903-35.779901 0.11768-0.116657L174.825724 508.533039l35.82288-35.780925 195.736986 195.507766 378.618177-378.179179 35.82595 35.780925L406.268934 739.938386 406.268934 739.938386z\" fill=\"#1afa29\" p-id=\"7843\"></path></svg> | 🇺🇸English  | 🟩Beginner |           | 2023-07-30T00:43:22T+0830 |\n",
       "|  2 | <a href=\"https://www.freecodecamp.org/learn/relational-database/\">Relational Database</a>                           | For these courses, you will use real developer too... |                                                                               | 🟩Free  | 💿Data science |            | 💿Data science 📊SQL 👨‍🏫Projects                            | <a href=\"https://freecodecamp.org\">freeCodeCamp</a> | 🟩Self-paced | <svg t=\"1690848852144\" class=\"icon\" viewBox=\"0 0 1024 1024\" version=\"1.1\" xmlns=\"http://www.w3.org/2000/svg\" p-id=\"7842\" width=\"32\" height=\"32\"><path d=\"M511.75543 62.584384c-247.815085 0-448.708512 200.659089-448.708512 448.186625 0 247.52549 200.893426 448.185602 448.708512 448.185602 247.814062 0 448.707488-200.659089 448.707488-448.185602C960.462918 263.243473 759.569492 62.584384 511.75543 62.584384L511.75543 62.584384zM406.268934 739.938386l-35.823903-35.779901 0.11768-0.116657L174.825724 508.533039l35.82288-35.780925 195.736986 195.507766 378.618177-378.179179 35.82595 35.780925L406.268934 739.938386 406.268934 739.938386z\" fill=\"#1afa29\" p-id=\"7843\"></path></svg> | 🇺🇸English  | 🟩Beginner |           | 2023-07-30T00:43:12T+0830 |\n",
       "|  3 | <a href=\"https://www.freecodecamp.org/learn/scientific-computing-with-python/\">Scientific Computing with Python</a> | Python is one of the most popular, flexible progra... | <a href=\"https://www.linkedin.com/in/charlesseverance/\">Charles Severance</a> | 🟩Free  | 💿Data science |            | 💿Data science 🐍Python 👨‍🏫Projects 🎥Video                 | <a href=\"https://freecodecamp.org\">freeCodeCamp</a> | 🟩Self-paced | <svg t=\"1690848852144\" class=\"icon\" viewBox=\"0 0 1024 1024\" version=\"1.1\" xmlns=\"http://www.w3.org/2000/svg\" p-id=\"7842\" width=\"32\" height=\"32\"><path d=\"M511.75543 62.584384c-247.815085 0-448.708512 200.659089-448.708512 448.186625 0 247.52549 200.893426 448.185602 448.708512 448.185602 247.814062 0 448.707488-200.659089 448.707488-448.185602C960.462918 263.243473 759.569492 62.584384 511.75543 62.584384L511.75543 62.584384zM406.268934 739.938386l-35.823903-35.779901 0.11768-0.116657L174.825724 508.533039l35.82288-35.780925 195.736986 195.507766 378.618177-378.179179 35.82595 35.780925L406.268934 739.938386 406.268934 739.938386z\" fill=\"#1afa29\" p-id=\"7843\"></path></svg> | 🇺🇸English  | 🟩Beginner |           | 2023-07-30T00:43:12T+0830 |\n",
       "|  4 | <a href=\"https://www.freecodecamp.org/learn/data-analysis-with-python/\">Data Analysis with Python</a>               | Data Analysis has been around for a long time. But... | <a href=\"https://www.linkedin.com/in/santiagobasulto\">Santiago Basulto</a>    | 🟩Free  | 💿Data science |            | 💿Data science 🐍Python 👨‍🏫Projects 🎥Video                 | <a href=\"https://freecodecamp.org\">freeCodeCamp</a> | 🟩Self-paced | <svg t=\"1690848852144\" class=\"icon\" viewBox=\"0 0 1024 1024\" version=\"1.1\" xmlns=\"http://www.w3.org/2000/svg\" p-id=\"7842\" width=\"32\" height=\"32\"><path d=\"M511.75543 62.584384c-247.815085 0-448.708512 200.659089-448.708512 448.186625 0 247.52549 200.893426 448.185602 448.708512 448.185602 247.814062 0 448.707488-200.659089 448.707488-448.185602C960.462918 263.243473 759.569492 62.584384 511.75543 62.584384L511.75543 62.584384zM406.268934 739.938386l-35.823903-35.779901 0.11768-0.116657L174.825724 508.533039l35.82288-35.780925 195.736986 195.507766 378.618177-378.179179 35.82595 35.780925L406.268934 739.938386 406.268934 739.938386z\" fill=\"#1afa29\" p-id=\"7843\"></path></svg> | 🇺🇸English  | 🟩Beginner |           | 2023-07-30T00:43:12T+0830 |\n",
       "|  5 | <a href=\"https://www.freecodecamp.org/learn/machine-learning-with-python/\">Machine Learning with Python</a>         | Machine learning has many practical applications t... | <a href=\"https://www.linkedin.com/in/tim-ruscica/\">Tim Ruscica</a>            | 🟩Free  | 🤖AI           |            | 🧠Machine learning 🐍Python 👨‍🏫Projects 🎥Video             | <a href=\"https://freecodecamp.org\">freeCodeCamp</a> | 🟩Self-paced | <svg t=\"1690848852144\" class=\"icon\" viewBox=\"0 0 1024 1024\" version=\"1.1\" xmlns=\"http://www.w3.org/2000/svg\" p-id=\"7842\" width=\"32\" height=\"32\"><path d=\"M511.75543 62.584384c-247.815085 0-448.708512 200.659089-448.708512 448.186625 0 247.52549 200.893426 448.185602 448.708512 448.185602 247.814062 0 448.707488-200.659089 448.707488-448.185602C960.462918 263.243473 759.569492 62.584384 511.75543 62.584384L511.75543 62.584384zM406.268934 739.938386l-35.823903-35.779901 0.11768-0.116657L174.825724 508.533039l35.82288-35.780925 195.736986 195.507766 378.618177-378.179179 35.82595 35.780925L406.268934 739.938386 406.268934 739.938386z\" fill=\"#1afa29\" p-id=\"7843\"></path></svg> | 🇺🇸English  | 🟩Beginner |           | 2023-07-30T00:43:12T+0830 |\n",
       "|  6 | <a href=\"https://www.freecodecamp.org/learn/college-algebra-with-python/\">College Algebra with Python</a>           | This course is designed as a one-semester college ... |                                                                               | 🟩Free  | 💿Data science |            | 💿Data science 🐍Python 🧮Math 👨‍🏫Projects 🎥Video          | <a href=\"https://freecodecamp.org\">freeCodeCamp</a> | 🟩Self-paced | <svg t=\"1690848852144\" class=\"icon\" viewBox=\"0 0 1024 1024\" version=\"1.1\" xmlns=\"http://www.w3.org/2000/svg\" p-id=\"7842\" width=\"32\" height=\"32\"><path d=\"M511.75543 62.584384c-247.815085 0-448.708512 200.659089-448.708512 448.186625 0 247.52549 200.893426 448.185602 448.708512 448.185602 247.814062 0 448.707488-200.659089 448.707488-448.185602C960.462918 263.243473 759.569492 62.584384 511.75543 62.584384L511.75543 62.584384zM406.268934 739.938386l-35.823903-35.779901 0.11768-0.116657L174.825724 508.533039l35.82288-35.780925 195.736986 195.507766 378.618177-378.179179 35.82595 35.780925L406.268934 739.938386 406.268934 739.938386z\" fill=\"#1afa29\" p-id=\"7843\"></path></svg> | 🇺🇸English  | 🟩Beginner |           | 2023-07-30T00:43:22T+0830 |"
      ],
      "text/plain": [
       "<IPython.core.display.Markdown object>"
      ]
     },
     "metadata": {},
     "output_type": "display_data"
    }
   ],
   "source": [
    "# Render the output\n",
    "\n",
    "df = pd.read_csv('./courses.csv')\n",
    "\n",
    "apply_a_tag_to_column(df, 'source', 'title')\n",
    "apply_a_tag_to_column(df, 'platformSrc', 'platform')\n",
    "apply_a_tag_to_column(df, 'authorSrc', 'author')\n",
    "\n",
    "price_icon_palette = {\n",
    "    'Free': '🟩',\n",
    "    'Paid': '🟥',\n",
    "}\n",
    "apply_label_style_to_column(df, 'price', price_icon_palette)\n",
    "\n",
    "label_icon_palette = {\n",
    "    'Data science': '💿',\n",
    "    'AI': '🤖',\n",
    "    'Python': '🐍',\n",
    "    'Projects': '👨‍🏫',\n",
    "    'SQL': '📊',\n",
    "    'Javascript': '🫙',\n",
    "    'Video': '🎥',\n",
    "    'Data visualization': '📈',\n",
    "    'Machine learning': '🧠',\n",
    "    'Math': '🧮',\n",
    "}\n",
    "apply_label_style_to_column(df, 'label', label_icon_palette)\n",
    "\n",
    "language_icon_palette = {\n",
    "    'English': '🇺🇸',\n",
    "    'Chinese': '🇨🇳',\n",
    "}\n",
    "apply_label_style_to_column(df, 'language', language_icon_palette, lambda x: Language.get(x).describe(language=x)['language'])\n",
    "\n",
    "topic_icon_palette = {\n",
    "    'Data science': '💿',\n",
    "    'AI': '🤖',\n",
    "    'Python': '🐍',\n",
    "}\n",
    "apply_label_style_to_column(df, 'topic', topic_icon_palette)\n",
    "\n",
    "type_icon_palette = {\n",
    "    'Self-paced': '🟩',\n",
    "    'Instructor-led': '🟥',\n",
    "}\n",
    "apply_label_style_to_column(df, 'type', type_icon_palette)\n",
    "\n",
    "level_icon_palette = {\n",
    "    'Beginner': '🟩',\n",
    "    'Intermediate': '🟧',\n",
    "    'Advanced': '🟥',\n",
    "}\n",
    "apply_label_style_to_column(df, 'level', level_icon_palette)\n",
    "\n",
    "truncate_column(df, 'description')\n",
    "\n",
    "apply_svg_to_boolean_column(df, 'certificate')\n",
    "\n",
    "excluded_columns = ['platformSrc', 'id', 'source',\n",
    "                    'createdAt', 'authorSrc', 'objectives']\n",
    "df = df.loc[:, ~df.columns.isin(excluded_columns)]\n",
    "df = df.replace(np.nan, '', regex=True)\n",
    "\n",
    "df.columns = df.columns.str.title()\n",
    "df.index += 1\n",
    "\n",
    "display(Markdown(df.to_markdown()))"
   ]
  }
 ],
 "metadata": {
  "kernelspec": {
   "display_name": "base",
   "language": "python",
   "name": "python3"
  },
  "language_info": {
   "codemirror_mode": {
    "name": "ipython",
    "version": 3
   },
   "file_extension": ".py",
   "mimetype": "text/x-python",
   "name": "python",
   "nbconvert_exporter": "python",
   "pygments_lexer": "ipython3",
   "version": "3.9.5"
  },
  "orig_nbformat": 4
 },
 "nbformat": 4,
 "nbformat_minor": 2
}
